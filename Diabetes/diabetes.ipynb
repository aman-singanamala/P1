{
  "cells": [
    {
      "cell_type": "markdown",
      "metadata": {
        "id": "YNma-JWUQ_sp"
      },
      "source": []
    },
    {
      "cell_type": "code",
      "execution_count": null,
      "metadata": {
        "id": "7H1bzuXTcDP1"
      },
      "outputs": [],
      "source": [
        "import numpy as np\n",
        "import pandas as pd\n",
        "import matplotlib.pyplot as plt"
      ]
    },
    {
      "cell_type": "code",
      "execution_count": null,
      "metadata": {
        "colab": {
          "base_uri": "https://localhost:8080/",
          "height": 488
        },
        "id": "iXqz9pwqX7a9",
        "outputId": "6cde53f4-1c55-4f35-bfdd-9b547f82eccc"
      },
      "outputs": [],
      "source": [
        "df= pd.read_csv('file.csv')\n",
        "df"
      ]
    },
    {
      "cell_type": "code",
      "execution_count": null,
      "metadata": {
        "colab": {
          "base_uri": "https://localhost:8080/"
        },
        "id": "9grgurGOYC1P",
        "outputId": "142c8c11-ab28-4fd3-e8e2-21f69bdc15b2"
      },
      "outputs": [],
      "source": [
        "df.shape"
      ]
    },
    {
      "cell_type": "code",
      "execution_count": null,
      "metadata": {
        "colab": {
          "base_uri": "https://localhost:8080/"
        },
        "id": "tCY-YtTVYPkh",
        "outputId": "d93efdc5-e40d-4e37-a487-313ec8532345"
      },
      "outputs": [],
      "source": [
        "## CHeck for null values\n",
        "df.isnull().sum()"
      ]
    },
    {
      "cell_type": "code",
      "execution_count": null,
      "metadata": {
        "colab": {
          "base_uri": "https://localhost:8080/"
        },
        "id": "ngITt8tIYSgO",
        "outputId": "b543f15b-19ee-4d1d-eabd-2ecae5a15f53"
      },
      "outputs": [],
      "source": [
        "df.columns"
      ]
    },
    {
      "cell_type": "code",
      "execution_count": null,
      "metadata": {
        "colab": {
          "base_uri": "https://localhost:8080/"
        },
        "id": "ARx2V1v9YbkY",
        "outputId": "8824c757-62ac-4718-f645-c20e2ade590d"
      },
      "outputs": [],
      "source": [
        "df.info()"
      ]
    },
    {
      "cell_type": "code",
      "execution_count": null,
      "metadata": {
        "colab": {
          "base_uri": "https://localhost:8080/",
          "height": 396
        },
        "id": "2ahqYTB0YfjT",
        "outputId": "9fea1830-2d42-4cfa-874a-96b9fe18f56c"
      },
      "outputs": [],
      "source": [
        "df.describe().T"
      ]
    },
    {
      "cell_type": "code",
      "execution_count": null,
      "metadata": {
        "colab": {
          "base_uri": "https://localhost:8080/"
        },
        "id": "9A1YhHtCYkDL",
        "outputId": "c99281e1-e52e-4956-8d6a-aa229c24b881"
      },
      "outputs": [],
      "source": [
        "df.columns"
      ]
    },
    {
      "cell_type": "code",
      "execution_count": null,
      "metadata": {
        "id": "ZfKf-BnKY0mf"
      },
      "outputs": [],
      "source": [
        "# There are no null values in the any columns"
      ]
    },
    {
      "cell_type": "code",
      "execution_count": null,
      "metadata": {
        "colab": {
          "base_uri": "https://localhost:8080/"
        },
        "id": "f8T9zB6lZ2vL",
        "outputId": "0f2be22f-0474-45a2-abec-2a00478c14f0"
      },
      "outputs": [],
      "source": [
        "df['Outcome'].value_counts()"
      ]
    },
    {
      "cell_type": "code",
      "execution_count": null,
      "metadata": {
        "colab": {
          "base_uri": "https://localhost:8080/",
          "height": 488
        },
        "id": "OFJkoQZSdwuQ",
        "outputId": "6e6a56c7-4e8a-4f9b-86b8-34ea2c1b7328"
      },
      "outputs": [],
      "source": [
        "df"
      ]
    },
    {
      "cell_type": "code",
      "execution_count": null,
      "metadata": {
        "id": "zjP-UPZjgDU2"
      },
      "outputs": [],
      "source": [
        "## scaling the data\n",
        "from sklearn.preprocessing import StandardScaler\n",
        "scaler = StandardScaler()\n",
        "df_X = df[['Pregnancies', 'Glucose', 'BloodPressure', 'SkinThickness', 'Insulin',\n",
        "       'BMI', 'DiabetesPedigreeFunction', 'Age']]\n",
        "\n",
        "X=scaler.fit_transform(df_X)\n",
        "y=df.Outcome"
      ]
    },
    {
      "cell_type": "code",
      "execution_count": null,
      "metadata": {
        "id": "4XFkdV3Lgvaf"
      },
      "outputs": [],
      "source": [
        "\n",
        "from sklearn.model_selection import train_test_split\n",
        "X_train,X_test,y_train,y_test=train_test_split(X,y,test_size=1/3,random_state=1)"
      ]
    },
    {
      "cell_type": "code",
      "execution_count": null,
      "metadata": {
        "colab": {
          "base_uri": "https://localhost:8080/"
        },
        "id": "Zyld05sPgzd0",
        "outputId": "68d8844d-799a-4b6f-d39c-aaf4a15bccf7"
      },
      "outputs": [],
      "source": [
        "from sklearn.ensemble import RandomForestClassifier\n",
        "rfc= RandomForestClassifier(n_estimators=200)\n",
        "rfc.fit(X_train,y_train)"
      ]
    },
    {
      "cell_type": "code",
      "execution_count": null,
      "metadata": {
        "colab": {
          "base_uri": "https://localhost:8080/"
        },
        "id": "T5wgZiupkvzc",
        "outputId": "82f61082-40e7-4c4f-cee8-41fc111e3a98"
      },
      "outputs": [],
      "source": [
        "from sklearn import metrics\n",
        "predictions= rfc.predict(X_test)\n",
        "print(\"Accuracy score is :\" , format(metrics.accuracy_score(y_test,predictions)))"
      ]
    },
    {
      "cell_type": "code",
      "execution_count": null,
      "metadata": {
        "colab": {
          "base_uri": "https://localhost:8080/"
        },
        "id": "4CQjL2NSk9AJ",
        "outputId": "f163b90f-5f91-4b70-8178-d254314d8cce"
      },
      "outputs": [],
      "source": [
        "from xgboost import XGBClassifier\n",
        "\n",
        "xgb_model = XGBClassifier(gamma=0)\n",
        "xgb_model.fit(X_train, y_train)"
      ]
    },
    {
      "cell_type": "code",
      "execution_count": null,
      "metadata": {
        "colab": {
          "base_uri": "https://localhost:8080/"
        },
        "id": "deFFCx6elOYE",
        "outputId": "450fc68c-93a4-4a1b-8cff-526d97f48abf"
      },
      "outputs": [],
      "source": [
        "from sklearn import metrics\n",
        "predictions= xgb_model.predict(X_test)\n",
        "print(\"Accuracy score is :\" , format(metrics.accuracy_score(y_test,predictions)))"
      ]
    },
    {
      "cell_type": "code",
      "execution_count": null,
      "metadata": {
        "id": "hPpwNI1PlSyl"
      },
      "outputs": [],
      "source": [
        "import pickle"
      ]
    },
    {
      "cell_type": "code",
      "execution_count": null,
      "metadata": {
        "id": "beIiSvQ_l_bZ"
      },
      "outputs": [],
      "source": [
        "\n",
        "saved_model= pickle.dumps(rfc)\n",
        "rfc_from_pickle= pickle.loads(saved_model)\n",
        "import pickle \n",
        "with open('model.pkl','wb') as files:\n",
        "    pickle.dump(rfc,files)"
      ]
    }
  ],
  "metadata": {
    "colab": {
      "collapsed_sections": [],
      "name": "diabetes.ipynb",
      "provenance": []
    },
    "kernelspec": {
      "display_name": "Python 3.10.4 64-bit",
      "language": "python",
      "name": "python3"
    },
    "language_info": {
      "codemirror_mode": {
        "name": "ipython",
        "version": 3
      },
      "file_extension": ".py",
      "mimetype": "text/x-python",
      "name": "python",
      "nbconvert_exporter": "python",
      "pygments_lexer": "ipython3",
      "version": "3.10.4"
    },
    "vscode": {
      "interpreter": {
        "hash": "916dbcbb3f70747c44a77c7bcd40155683ae19c65e1c03b4aa3499c5328201f1"
      }
    }
  },
  "nbformat": 4,
  "nbformat_minor": 0
}
